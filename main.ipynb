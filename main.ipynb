{
 "cells": [
  {
   "cell_type": "code",
   "execution_count": 4,
   "metadata": {},
   "outputs": [
    {
     "ename": "NameError",
     "evalue": "name 'MTwobCpRB18N0lmIfAvoZC5g2aCbSLQcNfJjn122eJ3ed2wHEosziSC3' is not defined",
     "output_type": "error",
     "traceback": [
      "\u001b[0;31m---------------------------------------------------------------------------\u001b[0m",
      "\u001b[0;31mNameError\u001b[0m                                 Traceback (most recent call last)",
      "Cell \u001b[0;32mIn[4], line 1\u001b[0m\n\u001b[0;32m----> 1\u001b[0m \u001b[43mMTwobCpRB18N0lmIfAvoZC5g2aCbSLQcNfJjn122eJ3ed2wHEosziSC3\u001b[49m \n\u001b[1;32m      2\u001b[0m \u001b[38;5;66;03m# api key from pexels.com\u001b[39;00m\n",
      "\u001b[0;31mNameError\u001b[0m: name 'MTwobCpRB18N0lmIfAvoZC5g2aCbSLQcNfJjn122eJ3ed2wHEosziSC3' is not defined"
     ]
    }
   ],
   "source": [
    "MTwobCpRB18N0lmIfAvoZC5g2aCbSLQcNfJjn122eJ3ed2wHEosziSC3 \n",
    "# api key from pexels.com"
   ]
  },
  {
   "cell_type": "code",
   "execution_count": 8,
   "metadata": {},
   "outputs": [
    {
     "name": "stderr",
     "output_type": "stream",
     "text": [
      "INFO:root:Processing prompt 1: A serene beach at sunrise\n"
     ]
    },
    {
     "name": "stdout",
     "output_type": "stream",
     "text": [
      "Moviepy - Building video stock_videos/A_serene_beach_at_sunrise_1.mp4_trimmed.mp4.\n",
      "Moviepy - Writing video stock_videos/A_serene_beach_at_sunrise_1.mp4_trimmed.mp4\n",
      "\n"
     ]
    },
    {
     "name": "stderr",
     "output_type": "stream",
     "text": [
      "Setting `pad_token_id` to `eos_token_id`:None for open-end generation.\n"
     ]
    },
    {
     "name": "stdout",
     "output_type": "stream",
     "text": [
      "Moviepy - Done !\n",
      "Moviepy - video ready stock_videos/A_serene_beach_at_sunrise_1.mp4_trimmed.mp4\n"
     ]
    },
    {
     "name": "stderr",
     "output_type": "stream",
     "text": [
      "INFO:root:Generated subtitle: A serene beach at sunrise on July 11, 2008. (Bastien Inzaurralde/The Washington Post)\n",
      "\n",
      "A team investigating one of the worst cases of missing and murdered Americans on record is looking for what it hopes will\n",
      "WARNING:ChatTTS.core:vocos not initialized.\n",
      "WARNING:ChatTTS.core:gpt not initialized.\n",
      "WARNING:ChatTTS.core:tokenizer not initialized.\n",
      "WARNING:ChatTTS.core:embed not initialized.\n",
      "WARNING:ChatTTS.core:decoder not initialized.\n",
      "ERROR:root:Error generating audio: \n",
      "INFO:root:Processing prompt 2: A busy city street at night\n"
     ]
    },
    {
     "name": "stdout",
     "output_type": "stream",
     "text": [
      "Moviepy - Building video stock_videos/A_busy_city_street_at_night_2.mp4_trimmed.mp4.\n",
      "MoviePy - Writing audio in A_busy_city_street_at_night_2.mp4_trimmedTEMP_MPY_wvf_snd.mp3\n"
     ]
    },
    {
     "name": "stderr",
     "output_type": "stream",
     "text": [
      "                                                        \r"
     ]
    },
    {
     "name": "stdout",
     "output_type": "stream",
     "text": [
      "MoviePy - Done.\n",
      "Moviepy - Writing video stock_videos/A_busy_city_street_at_night_2.mp4_trimmed.mp4\n",
      "\n"
     ]
    },
    {
     "name": "stderr",
     "output_type": "stream",
     "text": [
      "Setting `pad_token_id` to `eos_token_id`:None for open-end generation.\n"
     ]
    },
    {
     "name": "stdout",
     "output_type": "stream",
     "text": [
      "Moviepy - Done !\n",
      "Moviepy - video ready stock_videos/A_busy_city_street_at_night_2.mp4_trimmed.mp4\n"
     ]
    },
    {
     "name": "stderr",
     "output_type": "stream",
     "text": [
      "INFO:root:Generated subtitle: A busy city street at night. After a few hours of being shut down for police brutality by angry protesters, a woman stood on top of the building to face police officers. A young man from a nearby residential area was also arrested by police, and\n",
      "WARNING:ChatTTS.core:vocos not initialized.\n",
      "WARNING:ChatTTS.core:gpt not initialized.\n",
      "WARNING:ChatTTS.core:tokenizer not initialized.\n",
      "WARNING:ChatTTS.core:embed not initialized.\n",
      "WARNING:ChatTTS.core:decoder not initialized.\n",
      "ERROR:root:Error generating audio: \n",
      "INFO:root:Processing prompt 3: A peaceful mountain landscape\n"
     ]
    },
    {
     "name": "stdout",
     "output_type": "stream",
     "text": [
      "Moviepy - Building video stock_videos/A_peaceful_mountain_landscape_3.mp4_trimmed.mp4.\n",
      "Moviepy - Writing video stock_videos/A_peaceful_mountain_landscape_3.mp4_trimmed.mp4\n",
      "\n"
     ]
    },
    {
     "name": "stderr",
     "output_type": "stream",
     "text": [
      "Setting `pad_token_id` to `eos_token_id`:None for open-end generation.\n"
     ]
    },
    {
     "name": "stdout",
     "output_type": "stream",
     "text": [
      "Moviepy - Done !\n",
      "Moviepy - video ready stock_videos/A_peaceful_mountain_landscape_3.mp4_trimmed.mp4\n"
     ]
    },
    {
     "name": "stderr",
     "output_type": "stream",
     "text": [
      "INFO:root:Generated subtitle: A peaceful mountain landscape offers a perfect solution for a large town. As these hills rise high in the evening, it is a perfect choice for many people of all sizes (small to big, large to large). The hills are high in elevation and are\n",
      "WARNING:ChatTTS.core:vocos not initialized.\n",
      "WARNING:ChatTTS.core:gpt not initialized.\n",
      "WARNING:ChatTTS.core:tokenizer not initialized.\n",
      "WARNING:ChatTTS.core:embed not initialized.\n",
      "WARNING:ChatTTS.core:decoder not initialized.\n",
      "ERROR:root:Error generating audio: \n",
      "WARNING:root:No clips to concatenate.\n"
     ]
    }
   ],
   "source": [
    "import os\n",
    "import requests\n",
    "import logging\n",
    "from moviepy.editor import VideoFileClip, concatenate_videoclips, TextClip, CompositeVideoClip, AudioFileClip\n",
    "from transformers import pipeline\n",
    "from ChatTTS import Chat\n",
    "import torchaudio\n",
    "import torch\n",
    "\n",
    "# Set up logging\n",
    "logging.basicConfig(level=logging.INFO)\n",
    "\n",
    "# Hugging Face pipeline for text generation with GPU support\n",
    "device = 0 if torch.cuda.is_available() else -1  # Use GPU if available\n",
    "text_generator = pipeline(\"text-generation\", model=\"gpt2\", device=device)\n",
    "\n",
    "# Initialize ChatTTS for TTS\n",
    "chat = Chat()\n",
    "\n",
    "# Directory to save videos\n",
    "os.makedirs(\"stock_videos\", exist_ok=True)\n",
    "\n",
    "# Pexels API key\n",
    "PEXELS_API_KEY = \"MTwobCpRB18N0lmIfAvoZC5g2aCbSLQcNfJjn122eJ3ed2wHEosziSC3\"  # Use environment variable for API key\n",
    "\n",
    "# Path to background music file\n",
    "BACKGROUND_MUSIC_PATH = \"path_to_your_background_music.mp3\"  # Replace with your music file path\n",
    "\n",
    "# Function to search and download a video from Pexels based on a query\n",
    "def download_stock_video(prompt, index, duration=10):\n",
    "    headers = {\"Authorization\": PEXELS_API_KEY}\n",
    "    params = {\"query\": prompt, \"per_page\": 1}\n",
    "\n",
    "    try:\n",
    "        response = requests.get(\"https://api.pexels.com/videos/search\", headers=headers, params=params)\n",
    "        response.raise_for_status()\n",
    "        videos = response.json().get(\"videos\", [])\n",
    "\n",
    "        if not videos:\n",
    "            logging.warning(f\"No videos found for query: {prompt}\")\n",
    "            return None\n",
    "\n",
    "        video_url = videos[0][\"video_files\"][0][\"link\"]\n",
    "        video_path = f\"stock_videos/{prompt.replace(' ', '_')}_{index}.mp4\"\n",
    "\n",
    "        # Download the video\n",
    "        with requests.get(video_url, stream=True) as r:\n",
    "            r.raise_for_status()\n",
    "            with open(video_path, 'wb') as f:\n",
    "                for chunk in r.iter_content(chunk_size=8192):\n",
    "                    f.write(chunk)\n",
    "\n",
    "        # Trim video to required duration\n",
    "        clip = VideoFileClip(video_path).subclip(0, duration)\n",
    "        trimmed_video_path = f\"{video_path}_trimmed.mp4\"\n",
    "        clip.write_videofile(trimmed_video_path, codec=\"libx264\")\n",
    "        return trimmed_video_path\n",
    "    except requests.exceptions.RequestException as e:\n",
    "        logging.error(f\"Error downloading video: {e}\")\n",
    "        return None\n",
    "\n",
    "# Generate subtitles for the video based on a prompt\n",
    "def generate_subtitle(prompt):\n",
    "    try:\n",
    "        subtitle_text = text_generator(prompt, max_length=50, truncation=True)[0][\"generated_text\"]\n",
    "        logging.info(f\"Generated subtitle: {subtitle_text}\")\n",
    "        return subtitle_text\n",
    "    except Exception as e:\n",
    "        logging.error(f\"Error generating subtitle: {e}\")\n",
    "        return \"\"\n",
    "\n",
    "# Generate TTS audio from the subtitle text using ChatTTS\n",
    "def generate_audio_with_chatt(texts, audio_path=\"output.wav\"):\n",
    "    try:\n",
    "        wavs = chat.infer(texts)\n",
    "        torchaudio.save(audio_path, torch.from_numpy(wavs[0]), 24000)\n",
    "        return audio_path\n",
    "    except Exception as e:\n",
    "        logging.error(f\"Error generating audio: {e}\")\n",
    "        return \"\"\n",
    "\n",
    "# Combine video, subtitle, and audio\n",
    "def create_video_with_subtitles(video_path, subtitle_text, audio_path, output_path=\"output_video.mp4\"):\n",
    "    try:\n",
    "        clip = VideoFileClip(video_path)\n",
    "        audio_clip = AudioFileClip(audio_path)\n",
    "\n",
    "        # Load background music and set its volume\n",
    "        background_music = AudioFileClip(BACKGROUND_MUSIC_PATH).volumex(0.1)  # Adjust volume as needed\n",
    "        audio = CompositeAudioClip([audio_clip, background_music.set_duration(clip.duration)])\n",
    "        clip = clip.set_audio(audio)\n",
    "\n",
    "        # Create subtitle text clip\n",
    "        txt_clip = (TextClip(subtitle_text, fontsize=24, color='white')\n",
    "                    .set_position((\"center\", \"bottom\"))\n",
    "                    .set_duration(clip.duration))\n",
    "\n",
    "        # Overlay subtitles on video\n",
    "        video = CompositeVideoClip([clip, txt_clip])\n",
    "        video.write_videofile(output_path, codec=\"libx264\")\n",
    "        return output_path\n",
    "    except Exception as e:\n",
    "        logging.error(f\"Error creating video with subtitles: {e}\")\n",
    "        return \"\"\n",
    "\n",
    "# Main function to create a sequence of videos\n",
    "def create_video_sequence(prompts, duration=10):\n",
    "    final_clips = []\n",
    "    for i, prompt in enumerate(prompts):\n",
    "        logging.info(f\"Processing prompt {i + 1}: {prompt}\")\n",
    "\n",
    "        video_path = download_stock_video(prompt, i + 1, duration)\n",
    "        if not video_path:\n",
    "            continue  # Skip if no video was found\n",
    "\n",
    "        subtitle_text = generate_subtitle(prompt)\n",
    "        if not subtitle_text:\n",
    "            continue  # Skip if subtitle generation failed\n",
    "\n",
    "        audio_path = generate_audio_with_chatt([subtitle_text])\n",
    "        if not audio_path:\n",
    "            continue  # Skip if audio generation failed\n",
    "\n",
    "        video_with_subtitles_path = f\"video_with_subtitles_{i + 1}.mp4\"\n",
    "        final_clip_path = create_video_with_subtitles(video_path, subtitle_text, audio_path, video_with_subtitles_path)\n",
    "\n",
    "        if final_clip_path:\n",
    "            final_clips.append(final_clip_path)\n",
    "\n",
    "    # Concatenate all video clips\n",
    "    if final_clips:\n",
    "        video_clips = [VideoFileClip(path) for path in final_clips]\n",
    "        final_video = concatenate_videoclips(video_clips, method=\"compose\")\n",
    "        final_video.write_videofile(\"final_output_video.mp4\", codec=\"libx264\")\n",
    "    else:\n",
    "        logging.warning(\"No clips to concatenate.\")\n",
    "\n",
    "# Example usage\n",
    "prompts = [\n",
    "    \"A serene beach at sunrise\",\n",
    "    \"A busy city street at night\",\n",
    "    \"A peaceful mountain landscape\"\n",
    "]\n",
    "create_video_sequence(prompts, duration=10)\n"
   ]
  },
  {
   "cell_type": "code",
   "execution_count": 6,
   "metadata": {},
   "outputs": [
    {
     "name": "stdout",
     "output_type": "stream",
     "text": [
      "Collecting python-dotenv\n",
      "  Downloading python_dotenv-1.0.1-py3-none-any.whl.metadata (23 kB)\n",
      "Downloading python_dotenv-1.0.1-py3-none-any.whl (19 kB)\n",
      "Installing collected packages: python-dotenv\n",
      "Successfully installed python-dotenv-1.0.1\n"
     ]
    }
   ],
   "source": [
    "! pip install python-dotenv\n"
   ]
  },
  {
   "cell_type": "code",
   "execution_count": 15,
   "metadata": {},
   "outputs": [
    {
     "name": "stdout",
     "output_type": "stream",
     "text": [
      "\u001b[0m\n",
      "\u001b[34m\u001b[1m  You can now view your Streamlit app in your browser.\u001b[0m\n",
      "\u001b[0m\n",
      "\u001b[34m  Local URL: \u001b[0m\u001b[1mhttp://localhost:8501\u001b[0m\n",
      "\u001b[34m  Network URL: \u001b[0m\u001b[1mhttp://10.12.226.255:8501\u001b[0m\n",
      "\u001b[0m\n",
      "2024-12-07 21:27:37.303 Examining the path of torch.classes raised: Tried to instantiate class '__path__._path', but it does not exist! Ensure that it is registered via torch::class_\n",
      "2024-12-07 21:28:15.433 Examining the path of torch.classes raised: Tried to instantiate class '__path__._path', but it does not exist! Ensure that it is registered via torch::class_\n",
      "Moviepy - Building video project_assets/session_20241207_211602/story_video.mp4.\n",
      "Moviepy - Writing video project_assets/session_20241207_211602/story_video.mp4\n",
      "\n",
      "Moviepy - Done !                                                                \n",
      "Moviepy - video ready project_assets/session_20241207_211602/story_video.mp4\n",
      "2024-12-07 21:28:32.336 Examining the path of torch.classes raised: Tried to instantiate class '__path__._path', but it does not exist! Ensure that it is registered via torch::class_\n",
      "Moviepy - Building video project_assets/session_20241207_211602/story_video.mp4.\n",
      "Moviepy - Writing video project_assets/session_20241207_211602/story_video.mp4\n",
      "\n",
      "Moviepy - Done !                                                                \n",
      "Moviepy - video ready project_assets/session_20241207_211602/story_video.mp4\n",
      "Moviepy - Building video project_assets/session_20241207_211602/story_video.mp4.\n",
      "Moviepy - Writing video project_assets/session_20241207_211602/story_video.mp4\n",
      "\n",
      "Moviepy - Done !                                                                \n",
      "Moviepy - video ready project_assets/session_20241207_211602/story_video.mp4\n",
      "^C\n",
      "\u001b[34m  Stopping...\u001b[0m\n"
     ]
    }
   ],
   "source": [
    "! streamlit run main.py"
   ]
  },
  {
   "cell_type": "code",
   "execution_count": 14,
   "metadata": {},
   "outputs": [],
   "source": [
    "! pip install moviepy==1.0.3 numpy>=1.18.1 imageio>=2.5.0 decorator>=4.3.0 tqdm>=4.0.0 Pillow>=7.0.0 scipy>=1.3.0 pydub>=0.23.0 audiofile>=0.0.0 "
   ]
  },
  {
   "cell_type": "code",
   "execution_count": 2,
   "metadata": {},
   "outputs": [
    {
     "name": "stdout",
     "output_type": "stream",
     "text": [
      "Collecting manim\n",
      "  Downloading manim-0.18.1-py3-none-any.whl.metadata (10 kB)\n",
      "Requirement already satisfied: Pillow>=9.1 in /home/pennydums/.pyenv/versions/3.10.15/envs/venv_torch_001/lib/python3.10/site-packages (from manim) (10.4.0)\n",
      "Requirement already satisfied: Pygments>=2.0.0 in /home/pennydums/.pyenv/versions/3.10.15/envs/venv_torch_001/lib/python3.10/site-packages (from manim) (2.18.0)\n",
      "Requirement already satisfied: click>=8.0 in /home/pennydums/.pyenv/versions/3.10.15/envs/venv_torch_001/lib/python3.10/site-packages (from manim) (8.1.7)\n",
      "Collecting cloup>=2.0.0 (from manim)\n",
      "  Downloading cloup-3.0.5-py2.py3-none-any.whl.metadata (6.7 kB)\n",
      "Requirement already satisfied: decorator>=4.3.2 in /home/pennydums/.pyenv/versions/3.10.15/envs/venv_torch_001/lib/python3.10/site-packages (from manim) (4.4.2)\n",
      "Collecting isosurfaces>=0.1.0 (from manim)\n",
      "  Downloading isosurfaces-0.1.2-py3-none-any.whl.metadata (3.3 kB)\n",
      "Collecting manimpango<1.0.0,>=0.5.0 (from manim)\n",
      "  Downloading manimpango-0.6.0.tar.gz (4.1 MB)\n",
      "\u001b[2K     \u001b[90m━━━━━━━━━━━━━━━━━━━━━━━━━━━━━━━━━━━━━━━━\u001b[0m \u001b[32m4.1/4.1 MB\u001b[0m \u001b[31m4.8 MB/s\u001b[0m eta \u001b[36m0:00:00\u001b[0ma \u001b[36m0:00:01\u001b[0m\n",
      "\u001b[?25h  Installing build dependencies ... \u001b[?25ldone\n",
      "\u001b[?25h  Getting requirements to build wheel ... \u001b[?25ldone\n",
      "\u001b[?25h  Preparing metadata (pyproject.toml) ... \u001b[?25ldone\n",
      "\u001b[?25hCollecting mapbox-earcut>=1.0.0 (from manim)\n",
      "  Downloading mapbox_earcut-1.0.2-cp310-cp310-manylinux_2_17_x86_64.manylinux2014_x86_64.whl.metadata (2.1 kB)\n",
      "Collecting moderngl<6.0.0,>=5.0.0 (from manim)\n",
      "  Downloading moderngl-5.12.0-cp310-cp310-manylinux_2_17_x86_64.manylinux2014_x86_64.whl.metadata (7.8 kB)\n",
      "Collecting moderngl-window>=2.0.0 (from manim)\n",
      "  Downloading moderngl_window-3.0.3-py3-none-any.whl.metadata (8.9 kB)\n",
      "Requirement already satisfied: networkx>=2.6 in /home/pennydums/.pyenv/versions/3.10.15/envs/venv_torch_001/lib/python3.10/site-packages (from manim) (3.4.2)\n",
      "Requirement already satisfied: numpy>=1.26 in /home/pennydums/.pyenv/versions/3.10.15/envs/venv_torch_001/lib/python3.10/site-packages (from manim) (2.1.3)\n",
      "Collecting pycairo<2.0.0,>=1.13 (from manim)\n",
      "  Downloading pycairo-1.27.0.tar.gz (661 kB)\n",
      "\u001b[2K     \u001b[90m━━━━━━━━━━━━━━━━━━━━━━━━━━━━━━━━━━━━━━━\u001b[0m \u001b[32m661.5/661.5 kB\u001b[0m \u001b[31m4.8 MB/s\u001b[0m eta \u001b[36m0:00:00\u001b[0m\n",
      "\u001b[?25h  Installing build dependencies ... \u001b[?25ldone\n",
      "\u001b[?25h  Getting requirements to build wheel ... \u001b[?25ldone\n",
      "\u001b[?25h  Installing backend dependencies ... \u001b[?25ldone\n",
      "\u001b[?25h  Preparing metadata (pyproject.toml) ... \u001b[?25ldone\n",
      "\u001b[?25hRequirement already satisfied: pydub>=0.20.0 in /home/pennydums/.pyenv/versions/3.10.15/envs/venv_torch_001/lib/python3.10/site-packages (from manim) (0.25.1)\n",
      "Requirement already satisfied: rich>=12.0.0 in /home/pennydums/.pyenv/versions/3.10.15/envs/venv_torch_001/lib/python3.10/site-packages (from manim) (13.9.4)\n",
      "Requirement already satisfied: scipy>=1.6.0 in /home/pennydums/.pyenv/versions/3.10.15/envs/venv_torch_001/lib/python3.10/site-packages (from manim) (1.14.1)\n",
      "Collecting screeninfo>=0.7 (from manim)\n",
      "  Downloading screeninfo-0.8.1-py3-none-any.whl.metadata (2.9 kB)\n",
      "Collecting skia-pathops>=0.7.0 (from manim)\n",
      "  Downloading skia_pathops-0.8.0.post2-cp310-cp310-manylinux_2_17_x86_64.manylinux2014_x86_64.whl.metadata (2.3 kB)\n",
      "Collecting srt>=3.0.0 (from manim)\n",
      "  Downloading srt-3.5.3.tar.gz (28 kB)\n",
      "  Installing build dependencies ... \u001b[?25ldone\n",
      "\u001b[?25h  Getting requirements to build wheel ... \u001b[?25ldone\n",
      "\u001b[?25h  Preparing metadata (pyproject.toml) ... \u001b[?25ldone\n",
      "\u001b[?25hCollecting svgelements>=1.8.0 (from manim)\n",
      "  Downloading svgelements-1.9.6-py2.py3-none-any.whl.metadata (44 kB)\n",
      "Requirement already satisfied: tqdm>=4.0.0 in /home/pennydums/.pyenv/versions/3.10.15/envs/venv_torch_001/lib/python3.10/site-packages (from manim) (4.67.0)\n",
      "Requirement already satisfied: typing-extensions>=4.0.0 in /home/pennydums/.pyenv/versions/3.10.15/envs/venv_torch_001/lib/python3.10/site-packages (from manim) (4.12.2)\n",
      "Requirement already satisfied: watchdog>=2.0.0 in /home/pennydums/.pyenv/versions/3.10.15/envs/venv_torch_001/lib/python3.10/site-packages (from manim) (6.0.0)\n",
      "Collecting glcontext>=3.0.0 (from moderngl<6.0.0,>=5.0.0->manim)\n",
      "  Downloading glcontext-3.0.0-cp310-cp310-manylinux_2_5_x86_64.manylinux1_x86_64.manylinux_2_17_x86_64.manylinux2014_x86_64.whl.metadata (6.0 kB)\n",
      "Collecting pyglet>=2.0.0 (from moderngl-window>=2.0.0->manim)\n",
      "  Downloading pyglet-2.0.20-py3-none-any.whl.metadata (7.9 kB)\n",
      "Collecting pyglm<3,>=2.7.0 (from moderngl-window>=2.0.0->manim)\n",
      "  Downloading PyGLM-2.7.3-cp310-cp310-manylinux_2_27_x86_64.manylinux_2_28_x86_64.whl.metadata (12 kB)\n",
      "Requirement already satisfied: markdown-it-py>=2.2.0 in /home/pennydums/.pyenv/versions/3.10.15/envs/venv_torch_001/lib/python3.10/site-packages (from rich>=12.0.0->manim) (3.0.0)\n",
      "Requirement already satisfied: mdurl~=0.1 in /home/pennydums/.pyenv/versions/3.10.15/envs/venv_torch_001/lib/python3.10/site-packages (from markdown-it-py>=2.2.0->rich>=12.0.0->manim) (0.1.2)\n",
      "Downloading manim-0.18.1-py3-none-any.whl (585 kB)\n",
      "\u001b[2K   \u001b[90m━━━━━━━━━━━━━━━━━━━━━━━━━━━━━━━━━━━━━━━━\u001b[0m \u001b[32m585.2/585.2 kB\u001b[0m \u001b[31m7.5 MB/s\u001b[0m eta \u001b[36m0:00:00\u001b[0m\n",
      "\u001b[?25hDownloading cloup-3.0.5-py2.py3-none-any.whl (54 kB)\n",
      "Downloading isosurfaces-0.1.2-py3-none-any.whl (11 kB)\n",
      "Downloading mapbox_earcut-1.0.2-cp310-cp310-manylinux_2_17_x86_64.manylinux2014_x86_64.whl (110 kB)\n",
      "Downloading moderngl-5.12.0-cp310-cp310-manylinux_2_17_x86_64.manylinux2014_x86_64.whl (291 kB)\n",
      "Downloading moderngl_window-3.0.3-py3-none-any.whl (381 kB)\n",
      "Downloading screeninfo-0.8.1-py3-none-any.whl (12 kB)\n",
      "Downloading skia_pathops-0.8.0.post2-cp310-cp310-manylinux_2_17_x86_64.manylinux2014_x86_64.whl (3.3 MB)\n",
      "\u001b[2K   \u001b[90m━━━━━━━━━━━━━━━━━━━━━━━━━━━━━━━━━━━━━━━━\u001b[0m \u001b[32m3.3/3.3 MB\u001b[0m \u001b[31m2.8 MB/s\u001b[0m eta \u001b[36m0:00:00\u001b[0ma \u001b[36m0:00:01\u001b[0m\n",
      "\u001b[?25hDownloading svgelements-1.9.6-py2.py3-none-any.whl (137 kB)\n",
      "Downloading glcontext-3.0.0-cp310-cp310-manylinux_2_5_x86_64.manylinux1_x86_64.manylinux_2_17_x86_64.manylinux2014_x86_64.whl (51 kB)\n",
      "Downloading pyglet-2.0.20-py3-none-any.whl (945 kB)\n",
      "\u001b[2K   \u001b[90m━━━━━━━━━━━━━━━━━━━━━━━━━━━━━━━━━━━━━━━━\u001b[0m \u001b[32m945.1/945.1 kB\u001b[0m \u001b[31m3.6 MB/s\u001b[0m eta \u001b[36m0:00:00\u001b[0ma \u001b[36m0:00:01\u001b[0m\n",
      "\u001b[?25hDownloading PyGLM-2.7.3-cp310-cp310-manylinux_2_27_x86_64.manylinux_2_28_x86_64.whl (11.0 MB)\n",
      "\u001b[2K   \u001b[90m━━━━━━━━━━━━━━━━━━━━━━━━━━━━━━━━━━━━━━━━\u001b[0m \u001b[32m11.0/11.0 MB\u001b[0m \u001b[31m2.4 MB/s\u001b[0m eta \u001b[36m0:00:00\u001b[0m00:01\u001b[0m00:01\u001b[0m\n",
      "\u001b[?25hBuilding wheels for collected packages: manimpango, pycairo, srt\n",
      "  Building wheel for manimpango (pyproject.toml) ... \u001b[?25ldone\n",
      "\u001b[?25h  Created wheel for manimpango: filename=ManimPango-0.6.0-cp310-cp310-linux_x86_64.whl size=501532 sha256=426484b10c6b2bf6798141f57ce79523063be16410b10b05d51111d9c914737d\n",
      "  Stored in directory: /home/pennydums/.cache/pip/wheels/b2/0a/78/b7a0fa1f883ce5acdcffb2782e3422e0aafa80ee407fd61774\n",
      "  Building wheel for pycairo (pyproject.toml) ... \u001b[?25ldone\n",
      "\u001b[?25h  Created wheel for pycairo: filename=pycairo-1.27.0-cp310-cp310-linux_x86_64.whl size=129335 sha256=38d94c81fbf3ecb399bddcf7b057551383c283a6443f65acc067c7ef794f986c\n",
      "  Stored in directory: /home/pennydums/.cache/pip/wheels/c3/76/e4/134a2e849a3082926653cb544793d9642aed12399436f422d1\n",
      "  Building wheel for srt (pyproject.toml) ... \u001b[?25ldone\n",
      "\u001b[?25h  Created wheel for srt: filename=srt-3.5.3-py3-none-any.whl size=22428 sha256=96a8e228c4fa6106c46eea5234ebc0276aafd4f4090f6df80265248051f3f1d3\n",
      "  Stored in directory: /home/pennydums/.cache/pip/wheels/d7/31/a1/18e1e7e8bfdafd19e6803d7eb919b563dd11de380e4304e332\n",
      "Successfully built manimpango pycairo srt\n",
      "Installing collected packages: svgelements, pyglm, glcontext, srt, skia-pathops, screeninfo, pyglet, pycairo, moderngl, mapbox-earcut, manimpango, isosurfaces, cloup, moderngl-window, manim\n",
      "Successfully installed cloup-3.0.5 glcontext-3.0.0 isosurfaces-0.1.2 manim-0.18.1 manimpango-0.6.0 mapbox-earcut-1.0.2 moderngl-5.12.0 moderngl-window-3.0.3 pycairo-1.27.0 pyglet-2.0.20 pyglm-2.7.3 screeninfo-0.8.1 skia-pathops-0.8.0.post2 srt-3.5.3 svgelements-1.9.6\n"
     ]
    }
   ],
   "source": [
    "! pip install manim"
   ]
  },
  {
   "cell_type": "code",
   "execution_count": null,
   "metadata": {},
   "outputs": [
    {
     "name": "stdout",
     "output_type": "stream",
     "text": [
      "\u001b[0m\n",
      "\u001b[34m\u001b[1m  You can now view your Streamlit app in your browser.\u001b[0m\n",
      "\u001b[0m\n",
      "\u001b[34m  Local URL: \u001b[0m\u001b[1mhttp://localhost:8501\u001b[0m\n",
      "\u001b[34m  Network URL: \u001b[0m\u001b[1mhttp://10.12.226.255:8501\u001b[0m\n",
      "\u001b[0m\n",
      "2024-12-08 17:46:18.264 Examining the path of torch.classes raised: Tried to instantiate class '__path__._path', but it does not exist! Ensure that it is registered via torch::class_\n",
      "2024-12-08 17:46:38.580 Uncaught app exception\n",
      "Traceback (most recent call last):\n",
      "  File \"/home/pennydums/.pyenv/versions/3.10.15/envs/venv_torch_001/lib/python3.10/site-packages/streamlit/runtime/scriptrunner/exec_code.py\", line 88, in exec_func_with_error_handling\n",
      "    result = func()\n",
      "  File \"/home/pennydums/.pyenv/versions/3.10.15/envs/venv_torch_001/lib/python3.10/site-packages/streamlit/runtime/scriptrunner/script_runner.py\", line 579, in code_to_exec\n",
      "    exec(code, module.__dict__)\n",
      "  File \"/mnt/ssd_internal_victus/work/content_creator/main.py\", line 345, in <module>\n",
      "    audio_file_path = download_audio(video_id)\n",
      "  File \"/mnt/ssd_internal_victus/work/content_creator/main.py\", line 20, in download_audio\n",
      "    audio_stream = yt.streams.filter(only_audio=True).first()\n",
      "  File \"/home/pennydums/.pyenv/versions/3.10.15/envs/venv_torch_001/lib/python3.10/site-packages/pytube/__main__.py\", line 296, in streams\n",
      "    return StreamQuery(self.fmt_streams)\n",
      "  File \"/home/pennydums/.pyenv/versions/3.10.15/envs/venv_torch_001/lib/python3.10/site-packages/pytube/__main__.py\", line 176, in fmt_streams\n",
      "    stream_manifest = extract.apply_descrambler(self.streaming_data)\n",
      "  File \"/home/pennydums/.pyenv/versions/3.10.15/envs/venv_torch_001/lib/python3.10/site-packages/pytube/__main__.py\", line 160, in streaming_data\n",
      "    self.bypass_age_gate()\n",
      "  File \"/home/pennydums/.pyenv/versions/3.10.15/envs/venv_torch_001/lib/python3.10/site-packages/pytube/__main__.py\", line 257, in bypass_age_gate\n",
      "    innertube_response = innertube.player(self.video_id)\n",
      "  File \"/home/pennydums/.pyenv/versions/3.10.15/envs/venv_torch_001/lib/python3.10/site-packages/pytube/innertube.py\", line 448, in player\n",
      "    return self._call_api(endpoint, query, self.base_data)\n",
      "  File \"/home/pennydums/.pyenv/versions/3.10.15/envs/venv_torch_001/lib/python3.10/site-packages/pytube/innertube.py\", line 390, in _call_api\n",
      "    response = request._execute_request(\n",
      "  File \"/home/pennydums/.pyenv/versions/3.10.15/envs/venv_torch_001/lib/python3.10/site-packages/pytube/request.py\", line 37, in _execute_request\n",
      "    return urlopen(request, timeout=timeout)  # nosec\n",
      "  File \"/home/pennydums/.pyenv/versions/3.10.15/lib/python3.10/urllib/request.py\", line 216, in urlopen\n",
      "    return opener.open(url, data, timeout)\n",
      "  File \"/home/pennydums/.pyenv/versions/3.10.15/lib/python3.10/urllib/request.py\", line 525, in open\n",
      "    response = meth(req, response)\n",
      "  File \"/home/pennydums/.pyenv/versions/3.10.15/lib/python3.10/urllib/request.py\", line 634, in http_response\n",
      "    response = self.parent.error(\n",
      "  File \"/home/pennydums/.pyenv/versions/3.10.15/lib/python3.10/urllib/request.py\", line 563, in error\n",
      "    return self._call_chain(*args)\n",
      "  File \"/home/pennydums/.pyenv/versions/3.10.15/lib/python3.10/urllib/request.py\", line 496, in _call_chain\n",
      "    result = func(*args)\n",
      "  File \"/home/pennydums/.pyenv/versions/3.10.15/lib/python3.10/urllib/request.py\", line 643, in http_error_default\n",
      "    raise HTTPError(req.full_url, code, msg, hdrs, fp)\n",
      "urllib.error.HTTPError: HTTP Error 403: Forbidden\n",
      "2024-12-08 17:46:42.391 Uncaught app exception\n",
      "Traceback (most recent call last):\n",
      "  File \"/home/pennydums/.pyenv/versions/3.10.15/envs/venv_torch_001/lib/python3.10/site-packages/streamlit/runtime/scriptrunner/exec_code.py\", line 88, in exec_func_with_error_handling\n",
      "    result = func()\n",
      "  File \"/home/pennydums/.pyenv/versions/3.10.15/envs/venv_torch_001/lib/python3.10/site-packages/streamlit/runtime/scriptrunner/script_runner.py\", line 579, in code_to_exec\n",
      "    exec(code, module.__dict__)\n",
      "  File \"/mnt/ssd_internal_victus/work/content_creator/main.py\", line 345, in <module>\n",
      "    audio_file_path = download_audio(video_id)\n",
      "  File \"/mnt/ssd_internal_victus/work/content_creator/main.py\", line 20, in download_audio\n",
      "    audio_stream = yt.streams.filter(only_audio=True).first()\n",
      "  File \"/home/pennydums/.pyenv/versions/3.10.15/envs/venv_torch_001/lib/python3.10/site-packages/pytube/__main__.py\", line 296, in streams\n",
      "    return StreamQuery(self.fmt_streams)\n",
      "  File \"/home/pennydums/.pyenv/versions/3.10.15/envs/venv_torch_001/lib/python3.10/site-packages/pytube/__main__.py\", line 176, in fmt_streams\n",
      "    stream_manifest = extract.apply_descrambler(self.streaming_data)\n",
      "  File \"/home/pennydums/.pyenv/versions/3.10.15/envs/venv_torch_001/lib/python3.10/site-packages/pytube/__main__.py\", line 160, in streaming_data\n",
      "    self.bypass_age_gate()\n",
      "  File \"/home/pennydums/.pyenv/versions/3.10.15/envs/venv_torch_001/lib/python3.10/site-packages/pytube/__main__.py\", line 257, in bypass_age_gate\n",
      "    innertube_response = innertube.player(self.video_id)\n",
      "  File \"/home/pennydums/.pyenv/versions/3.10.15/envs/venv_torch_001/lib/python3.10/site-packages/pytube/innertube.py\", line 448, in player\n",
      "    return self._call_api(endpoint, query, self.base_data)\n",
      "  File \"/home/pennydums/.pyenv/versions/3.10.15/envs/venv_torch_001/lib/python3.10/site-packages/pytube/innertube.py\", line 390, in _call_api\n",
      "    response = request._execute_request(\n",
      "  File \"/home/pennydums/.pyenv/versions/3.10.15/envs/venv_torch_001/lib/python3.10/site-packages/pytube/request.py\", line 37, in _execute_request\n",
      "    return urlopen(request, timeout=timeout)  # nosec\n",
      "  File \"/home/pennydums/.pyenv/versions/3.10.15/lib/python3.10/urllib/request.py\", line 216, in urlopen\n",
      "    return opener.open(url, data, timeout)\n",
      "  File \"/home/pennydums/.pyenv/versions/3.10.15/lib/python3.10/urllib/request.py\", line 525, in open\n",
      "    response = meth(req, response)\n",
      "  File \"/home/pennydums/.pyenv/versions/3.10.15/lib/python3.10/urllib/request.py\", line 634, in http_response\n",
      "    response = self.parent.error(\n",
      "  File \"/home/pennydums/.pyenv/versions/3.10.15/lib/python3.10/urllib/request.py\", line 563, in error\n",
      "    return self._call_chain(*args)\n",
      "  File \"/home/pennydums/.pyenv/versions/3.10.15/lib/python3.10/urllib/request.py\", line 496, in _call_chain\n",
      "    result = func(*args)\n",
      "  File \"/home/pennydums/.pyenv/versions/3.10.15/lib/python3.10/urllib/request.py\", line 643, in http_error_default\n",
      "    raise HTTPError(req.full_url, code, msg, hdrs, fp)\n",
      "urllib.error.HTTPError: HTTP Error 403: Forbidden\n",
      "2024-12-08 17:47:10.260 Uncaught app exception\n",
      "Traceback (most recent call last):\n",
      "  File \"/home/pennydums/.pyenv/versions/3.10.15/envs/venv_torch_001/lib/python3.10/site-packages/streamlit/runtime/scriptrunner/exec_code.py\", line 88, in exec_func_with_error_handling\n",
      "    result = func()\n",
      "  File \"/home/pennydums/.pyenv/versions/3.10.15/envs/venv_torch_001/lib/python3.10/site-packages/streamlit/runtime/scriptrunner/script_runner.py\", line 579, in code_to_exec\n",
      "    exec(code, module.__dict__)\n",
      "  File \"/mnt/ssd_internal_victus/work/content_creator/main.py\", line 345, in <module>\n",
      "    audio_file_path = download_audio(video_id)\n",
      "  File \"/mnt/ssd_internal_victus/work/content_creator/main.py\", line 20, in download_audio\n",
      "    audio_stream = yt.streams.filter(only_audio=True).first()\n",
      "  File \"/home/pennydums/.pyenv/versions/3.10.15/envs/venv_torch_001/lib/python3.10/site-packages/pytube/__main__.py\", line 296, in streams\n",
      "    return StreamQuery(self.fmt_streams)\n",
      "  File \"/home/pennydums/.pyenv/versions/3.10.15/envs/venv_torch_001/lib/python3.10/site-packages/pytube/__main__.py\", line 176, in fmt_streams\n",
      "    stream_manifest = extract.apply_descrambler(self.streaming_data)\n",
      "  File \"/home/pennydums/.pyenv/versions/3.10.15/envs/venv_torch_001/lib/python3.10/site-packages/pytube/__main__.py\", line 160, in streaming_data\n",
      "    self.bypass_age_gate()\n",
      "  File \"/home/pennydums/.pyenv/versions/3.10.15/envs/venv_torch_001/lib/python3.10/site-packages/pytube/__main__.py\", line 257, in bypass_age_gate\n",
      "    innertube_response = innertube.player(self.video_id)\n",
      "  File \"/home/pennydums/.pyenv/versions/3.10.15/envs/venv_torch_001/lib/python3.10/site-packages/pytube/innertube.py\", line 448, in player\n",
      "    return self._call_api(endpoint, query, self.base_data)\n",
      "  File \"/home/pennydums/.pyenv/versions/3.10.15/envs/venv_torch_001/lib/python3.10/site-packages/pytube/innertube.py\", line 390, in _call_api\n",
      "    response = request._execute_request(\n",
      "  File \"/home/pennydums/.pyenv/versions/3.10.15/envs/venv_torch_001/lib/python3.10/site-packages/pytube/request.py\", line 37, in _execute_request\n",
      "    return urlopen(request, timeout=timeout)  # nosec\n",
      "  File \"/home/pennydums/.pyenv/versions/3.10.15/lib/python3.10/urllib/request.py\", line 216, in urlopen\n",
      "    return opener.open(url, data, timeout)\n",
      "  File \"/home/pennydums/.pyenv/versions/3.10.15/lib/python3.10/urllib/request.py\", line 525, in open\n",
      "    response = meth(req, response)\n",
      "  File \"/home/pennydums/.pyenv/versions/3.10.15/lib/python3.10/urllib/request.py\", line 634, in http_response\n",
      "    response = self.parent.error(\n",
      "  File \"/home/pennydums/.pyenv/versions/3.10.15/lib/python3.10/urllib/request.py\", line 563, in error\n",
      "    return self._call_chain(*args)\n",
      "  File \"/home/pennydums/.pyenv/versions/3.10.15/lib/python3.10/urllib/request.py\", line 496, in _call_chain\n",
      "    result = func(*args)\n",
      "  File \"/home/pennydums/.pyenv/versions/3.10.15/lib/python3.10/urllib/request.py\", line 643, in http_error_default\n",
      "    raise HTTPError(req.full_url, code, msg, hdrs, fp)\n",
      "urllib.error.HTTPError: HTTP Error 403: Forbidden\n",
      "2024-12-08 17:50:01.973 Examining the path of torch.classes raised: Tried to instantiate class '__path__._path', but it does not exist! Ensure that it is registered via torch::class_\n",
      "Moviepy - Building video project_assets/session_20241208_164417/story_video_no_audio.mp4.\n",
      "Moviepy - Writing video project_assets/session_20241208_164417/story_video_no_audio.mp4\n",
      "\n",
      "Moviepy - Done !                                                                \n",
      "Moviepy - video ready project_assets/session_20241208_164417/story_video_no_audio.mp4\n",
      "Moviepy - Building video project_assets/session_20241208_164417/story_video_with_audio.mp4.\n",
      "MoviePy - Writing audio in story_video_with_audioTEMP_MPY_wvf_snd.mp4\n",
      "MoviePy - Done.                                                                 \n",
      "Moviepy - Writing video project_assets/session_20241208_164417/story_video_with_audio.mp4\n",
      "\n",
      "Moviepy - Done !                                                                \n",
      "Moviepy - video ready project_assets/session_20241208_164417/story_video_with_audio.mp4\n",
      "Moviepy - Building video project_assets/session_20241208_164417/story_video_no_audio.mp4.\n",
      "Moviepy - Writing video project_assets/session_20241208_164417/story_video_no_audio.mp4\n",
      "\n",
      "Moviepy - Done !                                                                \n",
      "Moviepy - video ready project_assets/session_20241208_164417/story_video_no_audio.mp4\n",
      "Moviepy - Building video project_assets/session_20241208_164417/story_video_with_audio.mp4.\n",
      "MoviePy - Writing audio in story_video_with_audioTEMP_MPY_wvf_snd.mp4\n",
      "MoviePy - Done.                                                                 \n",
      "Moviepy - Writing video project_assets/session_20241208_164417/story_video_with_audio.mp4\n",
      "\n",
      "Moviepy - Done !                                                                \n",
      "Moviepy - video ready project_assets/session_20241208_164417/story_video_with_audio.mp4\n"
     ]
    }
   ],
   "source": [
    "! streamlit run main.py"
   ]
  },
  {
   "cell_type": "code",
   "execution_count": 3,
   "metadata": {},
   "outputs": [
    {
     "name": "stdout",
     "output_type": "stream",
     "text": [
      "Requirement already satisfied: ytmusicapi in /home/pennydums/.pyenv/versions/3.10.15/envs/venv_torch_001/lib/python3.10/site-packages (1.8.2)\n",
      "Requirement already satisfied: requests>=2.22 in /home/pennydums/.pyenv/versions/3.10.15/envs/venv_torch_001/lib/python3.10/site-packages (from ytmusicapi) (2.32.3)\n",
      "Requirement already satisfied: charset-normalizer<4,>=2 in /home/pennydums/.pyenv/versions/3.10.15/envs/venv_torch_001/lib/python3.10/site-packages (from requests>=2.22->ytmusicapi) (3.4.0)\n",
      "Requirement already satisfied: idna<4,>=2.5 in /home/pennydums/.pyenv/versions/3.10.15/envs/venv_torch_001/lib/python3.10/site-packages (from requests>=2.22->ytmusicapi) (3.10)\n",
      "Requirement already satisfied: urllib3<3,>=1.21.1 in /home/pennydums/.pyenv/versions/3.10.15/envs/venv_torch_001/lib/python3.10/site-packages (from requests>=2.22->ytmusicapi) (2.2.3)\n",
      "Requirement already satisfied: certifi>=2017.4.17 in /home/pennydums/.pyenv/versions/3.10.15/envs/venv_torch_001/lib/python3.10/site-packages (from requests>=2.22->ytmusicapi) (2024.8.30)\n",
      "Collecting pytube\n",
      "  Downloading pytube-15.0.0-py3-none-any.whl.metadata (5.0 kB)\n",
      "Downloading pytube-15.0.0-py3-none-any.whl (57 kB)\n",
      "Installing collected packages: pytube\n",
      "Successfully installed pytube-15.0.0\n"
     ]
    }
   ],
   "source": [
    "! pip install ytmusicapi\n",
    "! pip install pytube"
   ]
  },
  {
   "cell_type": "code",
   "execution_count": 6,
   "metadata": {},
   "outputs": [
    {
     "name": "stdout",
     "output_type": "stream",
     "text": [
      "Found existing installation: pytube 15.0.0\n",
      "Uninstalling pytube-15.0.0:\n",
      "  Would remove:\n",
      "    /home/pennydums/.pyenv/versions/3.10.15/envs/venv_torch_001/bin/pytube\n",
      "    /home/pennydums/.pyenv/versions/3.10.15/envs/venv_torch_001/lib/python3.10/site-packages/pytube-15.0.0.dist-info/*\n",
      "    /home/pennydums/.pyenv/versions/3.10.15/envs/venv_torch_001/lib/python3.10/site-packages/pytube/*\n",
      "Proceed (Y/n)? ^C\n",
      "\u001b[31mERROR: Operation cancelled by user\u001b[0m\u001b[31m\n",
      "\u001b[0m"
     ]
    }
   ],
   "source": [
    "! pip uninstall pytube"
   ]
  }
 ],
 "metadata": {
  "kernelspec": {
   "display_name": "venv_torch_001",
   "language": "python",
   "name": "python3"
  },
  "language_info": {
   "codemirror_mode": {
    "name": "ipython",
    "version": 3
   },
   "file_extension": ".py",
   "mimetype": "text/x-python",
   "name": "python",
   "nbconvert_exporter": "python",
   "pygments_lexer": "ipython3",
   "version": "3.10.15"
  }
 },
 "nbformat": 4,
 "nbformat_minor": 2
}

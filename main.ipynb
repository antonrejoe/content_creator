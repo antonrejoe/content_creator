{
 "cells": [
  {
   "cell_type": "code",
   "execution_count": 4,
   "metadata": {},
   "outputs": [
    {
     "ename": "NameError",
     "evalue": "name 'MTwobCpRB18N0lmIfAvoZC5g2aCbSLQcNfJjn122eJ3ed2wHEosziSC3' is not defined",
     "output_type": "error",
     "traceback": [
      "\u001b[0;31m---------------------------------------------------------------------------\u001b[0m",
      "\u001b[0;31mNameError\u001b[0m                                 Traceback (most recent call last)",
      "Cell \u001b[0;32mIn[4], line 1\u001b[0m\n\u001b[0;32m----> 1\u001b[0m \u001b[43mMTwobCpRB18N0lmIfAvoZC5g2aCbSLQcNfJjn122eJ3ed2wHEosziSC3\u001b[49m \n\u001b[1;32m      2\u001b[0m \u001b[38;5;66;03m# api key from pexels.com\u001b[39;00m\n",
      "\u001b[0;31mNameError\u001b[0m: name 'MTwobCpRB18N0lmIfAvoZC5g2aCbSLQcNfJjn122eJ3ed2wHEosziSC3' is not defined"
     ]
    }
   ],
   "source": [
    "MTwobCpRB18N0lmIfAvoZC5g2aCbSLQcNfJjn122eJ3ed2wHEosziSC3 \n",
    "# api key from pexels.com"
   ]
  },
  {
   "cell_type": "code",
   "execution_count": 8,
   "metadata": {},
   "outputs": [
    {
     "name": "stderr",
     "output_type": "stream",
     "text": [
      "INFO:root:Processing prompt 1: A serene beach at sunrise\n"
     ]
    },
    {
     "name": "stdout",
     "output_type": "stream",
     "text": [
      "Moviepy - Building video stock_videos/A_serene_beach_at_sunrise_1.mp4_trimmed.mp4.\n",
      "Moviepy - Writing video stock_videos/A_serene_beach_at_sunrise_1.mp4_trimmed.mp4\n",
      "\n"
     ]
    },
    {
     "name": "stderr",
     "output_type": "stream",
     "text": [
      "Setting `pad_token_id` to `eos_token_id`:None for open-end generation.\n"
     ]
    },
    {
     "name": "stdout",
     "output_type": "stream",
     "text": [
      "Moviepy - Done !\n",
      "Moviepy - video ready stock_videos/A_serene_beach_at_sunrise_1.mp4_trimmed.mp4\n"
     ]
    },
    {
     "name": "stderr",
     "output_type": "stream",
     "text": [
      "INFO:root:Generated subtitle: A serene beach at sunrise on July 11, 2008. (Bastien Inzaurralde/The Washington Post)\n",
      "\n",
      "A team investigating one of the worst cases of missing and murdered Americans on record is looking for what it hopes will\n",
      "WARNING:ChatTTS.core:vocos not initialized.\n",
      "WARNING:ChatTTS.core:gpt not initialized.\n",
      "WARNING:ChatTTS.core:tokenizer not initialized.\n",
      "WARNING:ChatTTS.core:embed not initialized.\n",
      "WARNING:ChatTTS.core:decoder not initialized.\n",
      "ERROR:root:Error generating audio: \n",
      "INFO:root:Processing prompt 2: A busy city street at night\n"
     ]
    },
    {
     "name": "stdout",
     "output_type": "stream",
     "text": [
      "Moviepy - Building video stock_videos/A_busy_city_street_at_night_2.mp4_trimmed.mp4.\n",
      "MoviePy - Writing audio in A_busy_city_street_at_night_2.mp4_trimmedTEMP_MPY_wvf_snd.mp3\n"
     ]
    },
    {
     "name": "stderr",
     "output_type": "stream",
     "text": [
      "                                                        \r"
     ]
    },
    {
     "name": "stdout",
     "output_type": "stream",
     "text": [
      "MoviePy - Done.\n",
      "Moviepy - Writing video stock_videos/A_busy_city_street_at_night_2.mp4_trimmed.mp4\n",
      "\n"
     ]
    },
    {
     "name": "stderr",
     "output_type": "stream",
     "text": [
      "Setting `pad_token_id` to `eos_token_id`:None for open-end generation.\n"
     ]
    },
    {
     "name": "stdout",
     "output_type": "stream",
     "text": [
      "Moviepy - Done !\n",
      "Moviepy - video ready stock_videos/A_busy_city_street_at_night_2.mp4_trimmed.mp4\n"
     ]
    },
    {
     "name": "stderr",
     "output_type": "stream",
     "text": [
      "INFO:root:Generated subtitle: A busy city street at night. After a few hours of being shut down for police brutality by angry protesters, a woman stood on top of the building to face police officers. A young man from a nearby residential area was also arrested by police, and\n",
      "WARNING:ChatTTS.core:vocos not initialized.\n",
      "WARNING:ChatTTS.core:gpt not initialized.\n",
      "WARNING:ChatTTS.core:tokenizer not initialized.\n",
      "WARNING:ChatTTS.core:embed not initialized.\n",
      "WARNING:ChatTTS.core:decoder not initialized.\n",
      "ERROR:root:Error generating audio: \n",
      "INFO:root:Processing prompt 3: A peaceful mountain landscape\n"
     ]
    },
    {
     "name": "stdout",
     "output_type": "stream",
     "text": [
      "Moviepy - Building video stock_videos/A_peaceful_mountain_landscape_3.mp4_trimmed.mp4.\n",
      "Moviepy - Writing video stock_videos/A_peaceful_mountain_landscape_3.mp4_trimmed.mp4\n",
      "\n"
     ]
    },
    {
     "name": "stderr",
     "output_type": "stream",
     "text": [
      "Setting `pad_token_id` to `eos_token_id`:None for open-end generation.\n"
     ]
    },
    {
     "name": "stdout",
     "output_type": "stream",
     "text": [
      "Moviepy - Done !\n",
      "Moviepy - video ready stock_videos/A_peaceful_mountain_landscape_3.mp4_trimmed.mp4\n"
     ]
    },
    {
     "name": "stderr",
     "output_type": "stream",
     "text": [
      "INFO:root:Generated subtitle: A peaceful mountain landscape offers a perfect solution for a large town. As these hills rise high in the evening, it is a perfect choice for many people of all sizes (small to big, large to large). The hills are high in elevation and are\n",
      "WARNING:ChatTTS.core:vocos not initialized.\n",
      "WARNING:ChatTTS.core:gpt not initialized.\n",
      "WARNING:ChatTTS.core:tokenizer not initialized.\n",
      "WARNING:ChatTTS.core:embed not initialized.\n",
      "WARNING:ChatTTS.core:decoder not initialized.\n",
      "ERROR:root:Error generating audio: \n",
      "WARNING:root:No clips to concatenate.\n"
     ]
    }
   ],
   "source": [
    "import os\n",
    "import requests\n",
    "import logging\n",
    "from moviepy.editor import VideoFileClip, concatenate_videoclips, TextClip, CompositeVideoClip, AudioFileClip\n",
    "from transformers import pipeline\n",
    "from ChatTTS import Chat\n",
    "import torchaudio\n",
    "import torch\n",
    "\n",
    "# Set up logging\n",
    "logging.basicConfig(level=logging.INFO)\n",
    "\n",
    "# Hugging Face pipeline for text generation with GPU support\n",
    "device = 0 if torch.cuda.is_available() else -1  # Use GPU if available\n",
    "text_generator = pipeline(\"text-generation\", model=\"gpt2\", device=device)\n",
    "\n",
    "# Initialize ChatTTS for TTS\n",
    "chat = Chat()\n",
    "\n",
    "# Directory to save videos\n",
    "os.makedirs(\"stock_videos\", exist_ok=True)\n",
    "\n",
    "# Pexels API key\n",
    "PEXELS_API_KEY = \"MTwobCpRB18N0lmIfAvoZC5g2aCbSLQcNfJjn122eJ3ed2wHEosziSC3\"  # Use environment variable for API key\n",
    "\n",
    "# Path to background music file\n",
    "BACKGROUND_MUSIC_PATH = \"path_to_your_background_music.mp3\"  # Replace with your music file path\n",
    "\n",
    "# Function to search and download a video from Pexels based on a query\n",
    "def download_stock_video(prompt, index, duration=10):\n",
    "    headers = {\"Authorization\": PEXELS_API_KEY}\n",
    "    params = {\"query\": prompt, \"per_page\": 1}\n",
    "\n",
    "    try:\n",
    "        response = requests.get(\"https://api.pexels.com/videos/search\", headers=headers, params=params)\n",
    "        response.raise_for_status()\n",
    "        videos = response.json().get(\"videos\", [])\n",
    "\n",
    "        if not videos:\n",
    "            logging.warning(f\"No videos found for query: {prompt}\")\n",
    "            return None\n",
    "\n",
    "        video_url = videos[0][\"video_files\"][0][\"link\"]\n",
    "        video_path = f\"stock_videos/{prompt.replace(' ', '_')}_{index}.mp4\"\n",
    "\n",
    "        # Download the video\n",
    "        with requests.get(video_url, stream=True) as r:\n",
    "            r.raise_for_status()\n",
    "            with open(video_path, 'wb') as f:\n",
    "                for chunk in r.iter_content(chunk_size=8192):\n",
    "                    f.write(chunk)\n",
    "\n",
    "        # Trim video to required duration\n",
    "        clip = VideoFileClip(video_path).subclip(0, duration)\n",
    "        trimmed_video_path = f\"{video_path}_trimmed.mp4\"\n",
    "        clip.write_videofile(trimmed_video_path, codec=\"libx264\")\n",
    "        return trimmed_video_path\n",
    "    except requests.exceptions.RequestException as e:\n",
    "        logging.error(f\"Error downloading video: {e}\")\n",
    "        return None\n",
    "\n",
    "# Generate subtitles for the video based on a prompt\n",
    "def generate_subtitle(prompt):\n",
    "    try:\n",
    "        subtitle_text = text_generator(prompt, max_length=50, truncation=True)[0][\"generated_text\"]\n",
    "        logging.info(f\"Generated subtitle: {subtitle_text}\")\n",
    "        return subtitle_text\n",
    "    except Exception as e:\n",
    "        logging.error(f\"Error generating subtitle: {e}\")\n",
    "        return \"\"\n",
    "\n",
    "# Generate TTS audio from the subtitle text using ChatTTS\n",
    "def generate_audio_with_chatt(texts, audio_path=\"output.wav\"):\n",
    "    try:\n",
    "        wavs = chat.infer(texts)\n",
    "        torchaudio.save(audio_path, torch.from_numpy(wavs[0]), 24000)\n",
    "        return audio_path\n",
    "    except Exception as e:\n",
    "        logging.error(f\"Error generating audio: {e}\")\n",
    "        return \"\"\n",
    "\n",
    "# Combine video, subtitle, and audio\n",
    "def create_video_with_subtitles(video_path, subtitle_text, audio_path, output_path=\"output_video.mp4\"):\n",
    "    try:\n",
    "        clip = VideoFileClip(video_path)\n",
    "        audio_clip = AudioFileClip(audio_path)\n",
    "\n",
    "        # Load background music and set its volume\n",
    "        background_music = AudioFileClip(BACKGROUND_MUSIC_PATH).volumex(0.1)  # Adjust volume as needed\n",
    "        audio = CompositeAudioClip([audio_clip, background_music.set_duration(clip.duration)])\n",
    "        clip = clip.set_audio(audio)\n",
    "\n",
    "        # Create subtitle text clip\n",
    "        txt_clip = (TextClip(subtitle_text, fontsize=24, color='white')\n",
    "                    .set_position((\"center\", \"bottom\"))\n",
    "                    .set_duration(clip.duration))\n",
    "\n",
    "        # Overlay subtitles on video\n",
    "        video = CompositeVideoClip([clip, txt_clip])\n",
    "        video.write_videofile(output_path, codec=\"libx264\")\n",
    "        return output_path\n",
    "    except Exception as e:\n",
    "        logging.error(f\"Error creating video with subtitles: {e}\")\n",
    "        return \"\"\n",
    "\n",
    "# Main function to create a sequence of videos\n",
    "def create_video_sequence(prompts, duration=10):\n",
    "    final_clips = []\n",
    "    for i, prompt in enumerate(prompts):\n",
    "        logging.info(f\"Processing prompt {i + 1}: {prompt}\")\n",
    "\n",
    "        video_path = download_stock_video(prompt, i + 1, duration)\n",
    "        if not video_path:\n",
    "            continue  # Skip if no video was found\n",
    "\n",
    "        subtitle_text = generate_subtitle(prompt)\n",
    "        if not subtitle_text:\n",
    "            continue  # Skip if subtitle generation failed\n",
    "\n",
    "        audio_path = generate_audio_with_chatt([subtitle_text])\n",
    "        if not audio_path:\n",
    "            continue  # Skip if audio generation failed\n",
    "\n",
    "        video_with_subtitles_path = f\"video_with_subtitles_{i + 1}.mp4\"\n",
    "        final_clip_path = create_video_with_subtitles(video_path, subtitle_text, audio_path, video_with_subtitles_path)\n",
    "\n",
    "        if final_clip_path:\n",
    "            final_clips.append(final_clip_path)\n",
    "\n",
    "    # Concatenate all video clips\n",
    "    if final_clips:\n",
    "        video_clips = [VideoFileClip(path) for path in final_clips]\n",
    "        final_video = concatenate_videoclips(video_clips, method=\"compose\")\n",
    "        final_video.write_videofile(\"final_output_video.mp4\", codec=\"libx264\")\n",
    "    else:\n",
    "        logging.warning(\"No clips to concatenate.\")\n",
    "\n",
    "# Example usage\n",
    "prompts = [\n",
    "    \"A serene beach at sunrise\",\n",
    "    \"A busy city street at night\",\n",
    "    \"A peaceful mountain landscape\"\n",
    "]\n",
    "create_video_sequence(prompts, duration=10)\n"
   ]
  }
 ],
 "metadata": {
  "kernelspec": {
   "display_name": "venv_torch_001",
   "language": "python",
   "name": "python3"
  },
  "language_info": {
   "codemirror_mode": {
    "name": "ipython",
    "version": 3
   },
   "file_extension": ".py",
   "mimetype": "text/x-python",
   "name": "python",
   "nbconvert_exporter": "python",
   "pygments_lexer": "ipython3",
   "version": "3.10.15"
  }
 },
 "nbformat": 4,
 "nbformat_minor": 2
}
